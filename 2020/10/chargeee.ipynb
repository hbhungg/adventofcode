{
 "cells": [
  {
   "cell_type": "code",
   "execution_count": 23,
   "metadata": {},
   "outputs": [],
   "source": [
    "with open('input.txt') as f:\n",
    "    chargers = f.read().split()\n",
    "chargers = [int(c) for c in chargers]"
   ]
  },
  {
   "cell_type": "code",
   "execution_count": 24,
   "metadata": {},
   "outputs": [
    {
     "name": "stdout",
     "output_type": "stream",
     "text": [
      "65 34\n"
     ]
    },
    {
     "data": {
      "text/plain": [
       "2210"
      ]
     },
     "execution_count": 24,
     "metadata": {},
     "output_type": "execute_result"
    }
   ],
   "source": [
    "chargers.append(0)\n",
    "chargers.append(max(chargers)+3)\n",
    "chargers = sorted(chargers)\n",
    "\n",
    "def dif(l):\n",
    "    d1 = 0\n",
    "    d3 = 0\n",
    "    for i in range(len(l)-1):\n",
    "        if l[i+1] - l[i] == 1:\n",
    "            d1 += 1\n",
    "        elif l[i+1] - l[i] == 3:\n",
    "            d3 += 1\n",
    "    print(d1, d3)\n",
    "    return d1*d3\n",
    "dif(chargers)"
   ]
  },
  {
   "cell_type": "code",
   "execution_count": 125,
   "metadata": {},
   "outputs": [
    {
     "name": "stdout",
     "output_type": "stream",
     "text": [
      "7 5\n"
     ]
    },
    {
     "data": {
      "text/plain": [
       "13"
      ]
     },
     "execution_count": 125,
     "metadata": {},
     "output_type": "execute_result"
    }
   ],
   "source": [
    "test = sorted([0,16,10,15,5,1,11,7,19,6,4,12,22])\n",
    "dif(test)\n",
    "len(test)"
   ]
  },
  {
   "cell_type": "code",
   "execution_count": 119,
   "metadata": {},
   "outputs": [],
   "source": [
    "import copy\n",
    "def check(l):\n",
    "    for i in range(len(l)-1):\n",
    "        if l[i+1] - l[i] > 3:\n",
    "            return False\n",
    "    return True\n",
    "\n",
    "class gg:\n",
    "    def __init__(self):\n",
    "        self.count = 0\n",
    "        self.cc = []\n",
    "        \n",
    "    def re_rev(self, l):\n",
    "#         if len(l) == 0:\n",
    "#             return self.count\n",
    "        for i in l:\n",
    "            if i == 0 or i == max(l):\n",
    "                continue\n",
    "            temp = l.copy()\n",
    "            temp.remove(i)\n",
    "            if check(temp):\n",
    "                print(temp, check(temp))\n",
    "                self.cc.append()\n",
    "                self.count += 1\n",
    "                self.re_rev(temp)"
   ]
  },
  {
   "cell_type": "code",
   "execution_count": 123,
   "metadata": {},
   "outputs": [
    {
     "name": "stdout",
     "output_type": "stream",
     "text": [
      "[0, 1, 4, 5, 6, 7, 10, 11, 12, 15, 16, 19, 22] True\n",
      "[0, 1, 4, 6, 7, 10, 11, 12, 15, 16, 19, 22] True\n",
      "[0, 1, 4, 7, 10, 11, 12, 15, 16, 19, 22] True\n",
      "[0, 1, 4, 7, 10, 12, 15, 16, 19, 22] True\n",
      "[0, 1, 4, 6, 7, 10, 12, 15, 16, 19, 22] True\n",
      "[0, 1, 4, 7, 10, 12, 15, 16, 19, 22] True\n",
      "[0, 1, 4, 5, 7, 10, 11, 12, 15, 16, 19, 22] True\n",
      "[0, 1, 4, 7, 10, 11, 12, 15, 16, 19, 22] True\n",
      "[0, 1, 4, 7, 10, 12, 15, 16, 19, 22] True\n",
      "[0, 1, 4, 5, 7, 10, 12, 15, 16, 19, 22] True\n",
      "[0, 1, 4, 7, 10, 12, 15, 16, 19, 22] True\n",
      "[0, 1, 4, 5, 6, 7, 10, 12, 15, 16, 19, 22] True\n",
      "[0, 1, 4, 6, 7, 10, 12, 15, 16, 19, 22] True\n",
      "[0, 1, 4, 7, 10, 12, 15, 16, 19, 22] True\n",
      "[0, 1, 4, 5, 7, 10, 12, 15, 16, 19, 22] True\n",
      "[0, 1, 4, 7, 10, 12, 15, 16, 19, 22] True\n",
      "None\n"
     ]
    }
   ],
   "source": [
    "a = gg()\n",
    "print(test, check(test))\n",
    "print(a.re_rev(test))"
   ]
  },
  {
   "cell_type": "code",
   "execution_count": 124,
   "metadata": {},
   "outputs": [
    {
     "data": {
      "text/plain": [
       "15"
      ]
     },
     "execution_count": 124,
     "metadata": {},
     "output_type": "execute_result"
    }
   ],
   "source": [
    "a.count"
   ]
  },
  {
   "cell_type": "code",
   "execution_count": null,
   "metadata": {},
   "outputs": [],
   "source": []
  }
 ],
 "metadata": {
  "kernelspec": {
   "display_name": "Python 3",
   "language": "python",
   "name": "python3"
  },
  "language_info": {
   "codemirror_mode": {
    "name": "ipython",
    "version": 3
   },
   "file_extension": ".py",
   "mimetype": "text/x-python",
   "name": "python",
   "nbconvert_exporter": "python",
   "pygments_lexer": "ipython3",
   "version": "3.8.5"
  }
 },
 "nbformat": 4,
 "nbformat_minor": 4
}
