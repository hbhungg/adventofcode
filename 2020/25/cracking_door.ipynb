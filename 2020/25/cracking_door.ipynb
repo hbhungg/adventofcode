{
 "cells": [
  {
   "cell_type": "code",
   "execution_count": 64,
   "metadata": {},
   "outputs": [],
   "source": [
    "PUBLIC_KEY1 = 6929599\n",
    "PUBLIC_KEY2 = 2448427"
   ]
  },
  {
   "cell_type": "code",
   "execution_count": 87,
   "metadata": {},
   "outputs": [],
   "source": [
    "def transform(lsize, snum):\n",
    "    retval = 1\n",
    "    MOD_KEY = 20201227\n",
    "    for i in range(lsize):\n",
    "        retval *= snum\n",
    "        retval = retval % MOD_KEY\n",
    "    return retval"
   ]
  },
  {
   "cell_type": "code",
   "execution_count": 88,
   "metadata": {},
   "outputs": [],
   "source": [
    "def svtransform(snum, lsize):\n",
    "    MOD_KEY = 20201227\n",
    "    return pow(snum, lsize, MOD_KEY)"
   ]
  },
  {
   "cell_type": "code",
   "execution_count": 67,
   "metadata": {},
   "outputs": [],
   "source": [
    "def guess(size, key):\n",
    "    for lsize in size:\n",
    "        val = svtransform(lsize)\n",
    "        if val == int(key):\n",
    "            return lsize\n",
    "    return \"NO LUCK\""
   ]
  },
  {
   "cell_type": "code",
   "execution_count": 75,
   "metadata": {
    "scrolled": false
   },
   "outputs": [
    {
     "name": "stdout",
     "output_type": "stream",
     "text": [
      "15210194\n"
     ]
    }
   ],
   "source": [
    "print(guess(range(1, 1000000000), PUBLIC_KEY1))"
   ]
  },
  {
   "cell_type": "code",
   "execution_count": 76,
   "metadata": {},
   "outputs": [
    {
     "name": "stdout",
     "output_type": "stream",
     "text": [
      "8652834\n"
     ]
    }
   ],
   "source": [
    "print(guess(range(1, 1000000000), PUBLIC_KEY2))"
   ]
  },
  {
   "cell_type": "code",
   "execution_count": 82,
   "metadata": {},
   "outputs": [
    {
     "data": {
      "text/plain": [
       "6929599"
      ]
     },
     "execution_count": 82,
     "metadata": {},
     "output_type": "execute_result"
    }
   ],
   "source": [
    "svtransform(7, 15210194)"
   ]
  },
  {
   "cell_type": "code",
   "execution_count": 83,
   "metadata": {},
   "outputs": [
    {
     "data": {
      "text/plain": [
       "2448427"
      ]
     },
     "execution_count": 83,
     "metadata": {},
     "output_type": "execute_result"
    }
   ],
   "source": [
    "svtransform(7, 8652834)"
   ]
  },
  {
   "cell_type": "code",
   "execution_count": 90,
   "metadata": {},
   "outputs": [
    {
     "name": "stdout",
     "output_type": "stream",
     "text": [
      "16933668\n"
     ]
    }
   ],
   "source": [
    "print(svtransform(PUBLIC_KEY2, 15210194))"
   ]
  },
  {
   "cell_type": "code",
   "execution_count": 91,
   "metadata": {},
   "outputs": [
    {
     "name": "stdout",
     "output_type": "stream",
     "text": [
      "16933668\n"
     ]
    }
   ],
   "source": [
    "print(svtransform(PUBLIC_KEY1, 8652834))"
   ]
  },
  {
   "cell_type": "code",
   "execution_count": null,
   "metadata": {},
   "outputs": [],
   "source": []
  }
 ],
 "metadata": {
  "kernelspec": {
   "display_name": "Python 3",
   "language": "python",
   "name": "python3"
  },
  "language_info": {
   "codemirror_mode": {
    "name": "ipython",
    "version": 3
   },
   "file_extension": ".py",
   "mimetype": "text/x-python",
   "name": "python",
   "nbconvert_exporter": "python",
   "pygments_lexer": "ipython3",
   "version": "3.8.5"
  }
 },
 "nbformat": 4,
 "nbformat_minor": 4
}
