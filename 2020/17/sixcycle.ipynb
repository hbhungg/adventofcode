{
 "cells": [
  {
   "cell_type": "code",
   "execution_count": 86,
   "metadata": {},
   "outputs": [
    {
     "data": {
      "text/plain": [
       "[['#...#...',\n",
       "  '#..#...#',\n",
       "  '..###..#',\n",
       "  '.#..##..',\n",
       "  '####...#',\n",
       "  '######..',\n",
       "  '...#..#.',\n",
       "  '##.#.#.#']]"
      ]
     },
     "execution_count": 86,
     "metadata": {},
     "output_type": "execute_result"
    }
   ],
   "source": [
    "with open('start.txt') as f:\n",
    "    start = f.read().split('\\n')\n",
    "start = [start]\n",
    "start"
   ]
  },
  {
   "cell_type": "code",
   "execution_count": 87,
   "metadata": {},
   "outputs": [],
   "source": [
    "class Game:\n",
    "    blank = ['........']*8\n",
    "    \n",
    "    def __init__(self, startState):\n",
    "        self.state = startState\n",
    "        self.minstate = []\n",
    "    \n",
    "    @staticmethod\n",
    "    def neighbor(x, y, z):\n",
    "        retval = []\n",
    "        for i in range(-1, 2):\n",
    "            for j in range(-1, 2):\n",
    "                for k in range(-1, 2):\n",
    "                    if i == 0 and j == 0 and k == 0:\n",
    "                        continue\n",
    "                    retval.append([x+i, y+j, z+k])\n",
    "        return retval\n",
    "    \n",
    "    def get_cell(self, x, y, z):\n",
    "        return self.state[x][y][z]\n",
    "\n",
    "    def check_n(self, x, y, z):\n",
    "        alive = 0\n",
    "        dead = 0\n",
    "        nb = neighbor(x, y, z)\n",
    "        for n in nb:\n",
    "            if get_cell(n[0], n[1], n[2]) == '#':\n",
    "                alive += 1\n",
    "            else:\n",
    "                dead += 1\n",
    "        \n",
    "        # alive cell\n",
    "        if get_cell(x, y, z) == '#' and (alive == 2 or alive == 3):\n",
    "            return '#'\n",
    "        else:\n",
    "            return '.'\n",
    "        \n",
    "        # dead cell\n",
    "        if get_cell(x, y, z) == '.' and alive == 3:\n",
    "            return '#'\n",
    "        else:\n",
    "            return '.'\n",
    "    \n",
    "    def generate(self):\n",
    "        self.state.append(self.blank)\n",
    "        self.minstate.append(self.blank)\n",
    "    \n",
    "    def printState(self):\n",
    "        print('positive', self.state)\n",
    "        print('negative', self.minstate)\n",
    "    \n",
    "    def simulate(self, cycle=6):\n",
    "        for i in range(cycle):\n",
    "            self.generate()\n",
    "            \n",
    "            \n",
    "            "
   ]
  },
  {
   "cell_type": "code",
   "execution_count": 88,
   "metadata": {},
   "outputs": [
    {
     "name": "stdout",
     "output_type": "stream",
     "text": [
      "positive [['#...#...', '#..#...#', '..###..#', '.#..##..', '####...#', '######..', '...#..#.', '##.#.#.#'], ['........', '........', '........', '........', '........', '........', '........', '........']]\n",
      "negative [['........', '........', '........', '........', '........', '........', '........', '........']]\n"
     ]
    }
   ],
   "source": [
    "game = Game(start)\n",
    "game.generate()\n",
    "game.printState()"
   ]
  },
  {
   "cell_type": "code",
   "execution_count": null,
   "metadata": {},
   "outputs": [],
   "source": []
  },
  {
   "cell_type": "code",
   "execution_count": null,
   "metadata": {},
   "outputs": [],
   "source": []
  },
  {
   "cell_type": "code",
   "execution_count": null,
   "metadata": {},
   "outputs": [],
   "source": []
  }
 ],
 "metadata": {
  "kernelspec": {
   "display_name": "Python 3",
   "language": "python",
   "name": "python3"
  },
  "language_info": {
   "codemirror_mode": {
    "name": "ipython",
    "version": 3
   },
   "file_extension": ".py",
   "mimetype": "text/x-python",
   "name": "python",
   "nbconvert_exporter": "python",
   "pygments_lexer": "ipython3",
   "version": "3.8.5"
  }
 },
 "nbformat": 4,
 "nbformat_minor": 4
}
