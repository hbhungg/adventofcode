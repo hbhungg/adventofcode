{
 "cells": [
  {
   "cell_type": "code",
   "execution_count": 147,
   "metadata": {},
   "outputs": [],
   "source": [
    "with open('input.txt') as f:\n",
    "    lines = f.read().split()"
   ]
  },
  {
   "cell_type": "code",
   "execution_count": 148,
   "metadata": {},
   "outputs": [
    {
     "data": {
      "text/plain": [
       "94"
      ]
     },
     "execution_count": 148,
     "metadata": {},
     "output_type": "execute_result"
    }
   ],
   "source": [
    "len(lines[0])"
   ]
  },
  {
   "cell_type": "code",
   "execution_count": 149,
   "metadata": {},
   "outputs": [
    {
     "data": {
      "text/plain": [
       "91"
      ]
     },
     "execution_count": 149,
     "metadata": {},
     "output_type": "execute_result"
    }
   ],
   "source": [
    "lines = [list(i) for i in lines]\n",
    "len(lines)"
   ]
  },
  {
   "cell_type": "code",
   "execution_count": 150,
   "metadata": {},
   "outputs": [],
   "source": [
    "ii = '''L.LL.LL.LL\n",
    "        LLLLLLL.LL\n",
    "        L.L.L..L..\n",
    "        LLLL.LL.LL\n",
    "        L.LL.LL.LL\n",
    "        L.LLLLL.LL\n",
    "        ..L.L.....\n",
    "        LLLLLLLLLL\n",
    "        L.LLLLLL.L\n",
    "        L.LLLLL.LL'''"
   ]
  },
  {
   "cell_type": "code",
   "execution_count": 151,
   "metadata": {},
   "outputs": [],
   "source": [
    "ii = ii.split('\\n')"
   ]
  },
  {
   "cell_type": "code",
   "execution_count": 168,
   "metadata": {},
   "outputs": [],
   "source": [
    "import copy\n",
    "class Seats:\n",
    "    def __init__(self, seats):\n",
    "        self.seats = seats\n",
    "    \n",
    "    def seen(self, x, y):\n",
    "        for i in range(-1, 2):\n",
    "            for j in range(-1, 2):\n",
    "                xx = x + i\n",
    "                yy = y + j\n",
    "                if xx == x and yy == y:\n",
    "                    continue\n",
    "                while xx < 0 or xx > (len(self.seats)-1) or yy < 0 or yy > (len(self.seats[0])-1):\n",
    "                    if self.seats[xx][yy] == ''\n",
    "    def check(self, x, y):\n",
    "        emp = 0\n",
    "        occ = 0\n",
    "        for i in range(-1 ,2):\n",
    "            xx = x + i\n",
    "            for j in range(-1, 2):\n",
    "                yy = y + j\n",
    "                if xx == x and yy == y:\n",
    "                    continue\n",
    "                if xx < 0 or xx > (len(self.seats)-1) or yy < 0 or yy > (len(self.seats[0])-1):\n",
    "                    emp += 1\n",
    "                    continue\n",
    "                a = self.seats[xx][yy]\n",
    "                if a == '#':\n",
    "                    occ += 1\n",
    "                elif a == 'L':\n",
    "                    emp += 1\n",
    "                elif a == '.':\n",
    "                    emp += 1\n",
    "        val = self.seats[x][y]\n",
    "        if occ >= 4 and val == '#':\n",
    "            return 'L'\n",
    "        elif emp == 8 and val == 'L':\n",
    "            return '#'\n",
    "        else:\n",
    "            return val\n",
    "    \n",
    "    def update(self):\n",
    "        retval = []\n",
    "        for i in range(len(self.seats)):\n",
    "            temp = []\n",
    "            for j in range(len(self.seats[0])):\n",
    "                vv = self.check(i, j)\n",
    "                temp.append(vv)\n",
    "            retval.append(temp)\n",
    "        return retval\n",
    "    \n",
    "    def next_r(self):\n",
    "        self.seats = self.update().copy()\n",
    "    \n",
    "    def pp(self):\n",
    "        return self.seats\n",
    "    \n",
    "    def count_occ(self):\n",
    "        retval = 0\n",
    "        for i in self.seats:\n",
    "            for j in i:\n",
    "                if j == '#':\n",
    "                    retval += 1\n",
    "        return retval"
   ]
  },
  {
   "cell_type": "code",
   "execution_count": 167,
   "metadata": {},
   "outputs": [
    {
     "name": "stdout",
     "output_type": "stream",
     "text": [
      "2178 2178\n"
     ]
    }
   ],
   "source": [
    "a = Seats(lines)\n",
    "pre = 0\n",
    "now = 1\n",
    "while now != pre:\n",
    "    pre = a.count_occ()\n",
    "    a.next_r()\n",
    "    now = a.count_occ()\n",
    "print(now, pre)"
   ]
  },
  {
   "cell_type": "code",
   "execution_count": 170,
   "metadata": {},
   "outputs": [
    {
     "name": "stdout",
     "output_type": "stream",
     "text": [
      "-1 -1\n",
      "-1 0\n",
      "-1 1\n",
      "0 -1\n",
      "0 0\n",
      "0 1\n",
      "1 -1\n",
      "1 0\n",
      "1 1\n"
     ]
    }
   ],
   "source": [
    "tt = Seats(ii)\n",
    "tt.seen(1, 2)"
   ]
  },
  {
   "cell_type": "code",
   "execution_count": null,
   "metadata": {},
   "outputs": [],
   "source": []
  }
 ],
 "metadata": {
  "kernelspec": {
   "display_name": "Python 3",
   "language": "python",
   "name": "python3"
  },
  "language_info": {
   "codemirror_mode": {
    "name": "ipython",
    "version": 3
   },
   "file_extension": ".py",
   "mimetype": "text/x-python",
   "name": "python",
   "nbconvert_exporter": "python",
   "pygments_lexer": "ipython3",
   "version": "3.8.5"
  }
 },
 "nbformat": 4,
 "nbformat_minor": 4
}
