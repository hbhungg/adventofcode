{
 "cells": [
  {
   "cell_type": "code",
   "execution_count": 3,
   "metadata": {},
   "outputs": [],
   "source": [
    "with open('input.txt') as f:\n",
    "    l = f.read().split('\\n')"
   ]
  },
  {
   "cell_type": "code",
   "execution_count": 87,
   "metadata": {},
   "outputs": [
    {
     "data": {
      "text/plain": [
       "372"
      ]
     },
     "execution_count": 87,
     "metadata": {},
     "output_type": "execute_result"
    }
   ],
   "source": [
    "l = l[:-1]\n",
    "len(l)"
   ]
  },
  {
   "cell_type": "code",
   "execution_count": 112,
   "metadata": {},
   "outputs": [],
   "source": [
    "def sd(exp):\n",
    "    p = {'+': 1, '*':0}\n",
    "    output = []\n",
    "    op = []\n",
    "    for e in exp:\n",
    "        if e in ' ':\n",
    "            continue\n",
    "#         print(output, op)\n",
    "        if e in '0123456789':\n",
    "            output.append(e)\n",
    "        elif e in '+*':\n",
    "            while len(op) != 0 and op[-1] != '(' and p[op[-1]] > p[e]:\n",
    "                temp = op.pop()\n",
    "                output.append(temp)\n",
    "            op.append(e)\n",
    "        elif e == '(':\n",
    "            op.append(e)\n",
    "        elif e == ')':\n",
    "            while op[-1] != '(':\n",
    "                temp = op.pop()\n",
    "                output.append(temp)\n",
    "            if op[-1] == '(':\n",
    "                op.pop()\n",
    "    while len(op) != 0:\n",
    "        temp = op.pop()\n",
    "        output.append(temp)\n",
    "    return output"
   ]
  },
  {
   "cell_type": "code",
   "execution_count": 113,
   "metadata": {},
   "outputs": [],
   "source": [
    "def rpc(exp):\n",
    "    output = []\n",
    "    for e in exp:\n",
    "        if e in '0123456789':\n",
    "            output.append(e)\n",
    "        elif e in '+*':\n",
    "            temp1 = int(output.pop())\n",
    "            temp2 = int(output.pop())\n",
    "            if e == '+':\n",
    "                val = temp1 + temp2\n",
    "            if e == '*':\n",
    "                val = temp1 * temp2\n",
    "            output.append(val)\n",
    "    return output[0]"
   ]
  },
  {
   "cell_type": "code",
   "execution_count": 114,
   "metadata": {
    "scrolled": false
   },
   "outputs": [
    {
     "name": "stdout",
     "output_type": "stream",
     "text": [
      "5 * (7 * 6 + (8 + 5 + 2) + 7 * 7) * (6 * (2 + 5 * 4) + 4 * 7 + 4 * (6 + 7)) + 2\n",
      "['5', '7', '6', '8', '5', '2', '+', '+', '7', '+', '+', '7', '*', '*', '6', '2', '5', '+', '4', '*', '4', '+', '7', '4', '+', '6', '7', '+', '*', '*', '*', '2', '+', '*', '*']\n",
      "188361880\n"
     ]
    }
   ],
   "source": [
    "test = l[-1]\n",
    "print(test)\n",
    "print(sd(test))\n",
    "print(rpc(sd(test)))"
   ]
  },
  {
   "cell_type": "code",
   "execution_count": 115,
   "metadata": {},
   "outputs": [
    {
     "name": "stdout",
     "output_type": "stream",
     "text": [
      "8952864356993\n"
     ]
    }
   ],
   "source": [
    "summ = 0\n",
    "for i in l:\n",
    "    temp = rpc(sd(i))\n",
    "    summ += temp\n",
    "print(summ)"
   ]
  },
  {
   "cell_type": "code",
   "execution_count": null,
   "metadata": {},
   "outputs": [],
   "source": []
  }
 ],
 "metadata": {
  "kernelspec": {
   "display_name": "Python 3",
   "language": "python",
   "name": "python3"
  },
  "language_info": {
   "codemirror_mode": {
    "name": "ipython",
    "version": 3
   },
   "file_extension": ".py",
   "mimetype": "text/x-python",
   "name": "python",
   "nbconvert_exporter": "python",
   "pygments_lexer": "ipython3",
   "version": "3.8.5"
  }
 },
 "nbformat": 4,
 "nbformat_minor": 4
}
